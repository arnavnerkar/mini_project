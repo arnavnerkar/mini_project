{
  "nbformat": 4,
  "nbformat_minor": 0,
  "metadata": {
    "colab": {
      "provenance": []
    },
    "kernelspec": {
      "name": "python3",
      "display_name": "Python 3"
    },
    "language_info": {
      "name": "python"
    }
  },
  "cells": [
    {
      "cell_type": "code",
      "execution_count": null,
      "metadata": {
        "id": "UzavN1MiDaCM"
      },
      "outputs": [],
      "source": [
        "import numpy as np\n",
        "import matplotlib.pyplot as plt\n",
        "X=np.vstack(([0,0],[0,1],[1,0],[1,1]))\n",
        "t=np.array([0,1,1,0]).reshape(-1,1)\n",
        "alpha=1\n",
        "W1=np.random.rand(2,16)\n",
        "W2=np.random.rand(16,1)\n",
        "def sigmoid(x):\n",
        "  return (1/(1+np.exp(-x)))\n",
        "Loss=[]\n",
        "for i in range(10000):\n",
        "  z=sigmoid(np.dot(X,W1))\n",
        "  y=sigmoid(np.dot(z,W2))\n",
        "  loss=1/4*np.sum((y-t)**2)\n",
        "  grad_W2=2*(np.dot(y1.T,(y-t)*y*(1-y)))\n",
        "  grad_W1=2*np.dot(X.T,np.dot((y-t)*y*(1-y),W2.T)*z*(1-z))\n",
        "  W2=W2-alpha*grad_W2\n",
        "  W1=W1-alpha*grad_W1\n",
        "  Loss.append(loss)\n",
        "  "
      ]
    }
  ]
}