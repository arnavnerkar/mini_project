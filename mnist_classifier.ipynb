{
  "nbformat": 4,
  "nbformat_minor": 0,
  "metadata": {
    "colab": {
      "provenance": []
    },
    "kernelspec": {
      "name": "python3",
      "display_name": "Python 3"
    },
    "language_info": {
      "name": "python"
    }
  },
  "cells": [
    {
      "cell_type": "code",
      "execution_count": 17,
      "metadata": {
        "id": "UzavN1MiDaCM",
        "colab": {
          "base_uri": "https://localhost:8080/"
        },
        "outputId": "43a8aa12-5cbb-45ca-820f-fc07d99aca7f"
      },
      "outputs": [
        {
          "output_type": "stream",
          "name": "stdout",
          "text": [
            "   label  pixel0  pixel1  pixel2  pixel3  pixel4  pixel5  pixel6  pixel7  \\\n",
            "0      1       0       0       0       0       0       0       0       0   \n",
            "1      0       0       0       0       0       0       0       0       0   \n",
            "2      1       0       0       0       0       0       0       0       0   \n",
            "3      4       0       0       0       0       0       0       0       0   \n",
            "4      0       0       0       0       0       0       0       0       0   \n",
            "\n",
            "   pixel8  ...  pixel774  pixel775  pixel776  pixel777  pixel778  pixel779  \\\n",
            "0       0  ...         0         0         0         0         0         0   \n",
            "1       0  ...         0         0         0         0         0         0   \n",
            "2       0  ...         0         0         0         0         0         0   \n",
            "3       0  ...         0         0         0         0         0         0   \n",
            "4       0  ...         0         0         0         0         0         0   \n",
            "\n",
            "   pixel780  pixel781  pixel782  pixel783  \n",
            "0         0         0         0         0  \n",
            "1         0         0         0         0  \n",
            "2         0         0         0         0  \n",
            "3         0         0         0         0  \n",
            "4         0         0         0         0  \n",
            "\n",
            "[5 rows x 785 columns]\n"
          ]
        }
      ],
      "source": [
        "import numpy as np\n",
        "import pandas as pd\n",
        "import matplotlib.pyplot as plt\n",
        "data = pd.read_csv('train.csv')\n",
        "print(data.head())\n",
        "data = np.array(data)\n",
        "a,b=data.shape\n",
        "np.random.shuffle(data)\n",
        "data_test = data[0:1000].T\n",
        "data_train = data[1000:a].T\n",
        "X_test=data_test[1:b]/255.\n",
        "Y_test=data_test[0]\n",
        "Y=data_train[0]\n",
        "X=data_train[1:b]/255.\n",
        "alpha=0.10\n",
        "W1=np.random.rand(10, 784) - 0.5\n",
        "W2=np.random.rand(10,10) - 0.5\n",
        "def sigmoid(x):\n",
        "  return (1/(1+np.exp(-x)))\n",
        "Loss=[]\n",
        "one_hot_Y = np.zeros((Y.size, Y.max() + 1))\n",
        "one_hot_Y[np.arange(Y.size), Y] = 1\n",
        "one_hot_Y = one_hot_Y.T\n",
        "  "
      ]
    },
    {
      "cell_type": "code",
      "source": [
        "for i in range(1):\n",
        "  z=sigmoid(np.dot(W1,X))\n",
        "  y=sigmoid(np.dot(W2,z))\n",
        "  loss=1/a*np.sum((y-one_hot_Y)**2)\n",
        "  grad_W2=2*(np.dot(y.T,(y-one_hot_Y)*y*(1-y)))\n",
        "  grad_W1=2*np.dot(X.T,np.dot((y-one_hot_Y)*y*(1-y),W2.T)*z*(1-z))\n",
        "  W2=W2-alpha*grad_W2\n",
        "  W1=W1-alpha*grad_W1\n",
        "  Loss.append(loss)\n",
        "  current_image = X[:, i, None]\n",
        "  prediction = np.argmax(y, 0)\n",
        "  label = Y[i]\n",
        "  print(\"Prediction: \", prediction)\n",
        "  print(\"Label: \", label)\n",
        "  current_image = current_image.reshape((28, 28)) * 255\n",
        "  plt.gray()\n",
        "  plt.imshow(current_image, interpolation='nearest')\n",
        "  plt.show()\n"
      ],
      "metadata": {
        "id": "r0Yj7IovxxLy"
      },
      "execution_count": null,
      "outputs": []
    },
    {
      "cell_type": "code",
      "source": [
        "for i in range(10):\n",
        "  z=sigmoid(np.dot(W1,X_test))\n",
        "  y=sigmoid(np.dot(W2,z))\n",
        "  current_image = X_test[:, i, None]\n",
        "  prediction = np.argmax(y, 0)\n",
        "  label = Y_test[i]\n",
        "  print(\"Prediction: \", prediction)\n",
        "  print(\"Label: \", label)\n",
        "  current_image = current_image.reshape((28, 28)) * 255\n",
        "  plt.gray()\n",
        "  plt.imshow(current_image, interpolation='nearest')\n",
        "  plt.show()"
      ],
      "metadata": {
        "id": "6c0snGWtUrxS"
      },
      "execution_count": null,
      "outputs": []
    }
  ]
}